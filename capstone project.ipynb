{
 "cells": [
  {
   "cell_type": "markdown",
   "id": "f81719dd",
   "metadata": {},
   "source": [
    "# Capstone Project\n",
    "### Author: Leo Xu"
   ]
  },
  {
   "cell_type": "code",
   "execution_count": null,
   "id": "5609651d",
   "metadata": {},
   "outputs": [],
   "source": [
    "import cv2\n",
    "import os\n",
    "import torch\n",
    "import pickle as pkl\n",
    "import numpy as np\n",
    "import pandas as pd\n",
    "from torch import nn\n",
    "from torch.utils.data import Dataset, DataLoader\n",
    "from torchvision import transforms\n",
    "import torch.optim as optim\n",
    "import matplotlib.pyplot as plt"
   ]
  },
  {
   "cell_type": "code",
   "execution_count": null,
   "id": "028cee17",
   "metadata": {},
   "outputs": [],
   "source": [
    "device = torch.device(\"cuda:0\" if torch.cuda.is_available() else \"cpu\")"
   ]
  },
  {
   "cell_type": "markdown",
   "id": "d2b7fa81",
   "metadata": {},
   "source": [
    "## Lazy loading the data"
   ]
  },
  {
   "cell_type": "code",
   "execution_count": null,
   "id": "e9399212",
   "metadata": {},
   "outputs": [],
   "source": [
    "class LazyLoadDataset(Dataset):\n",
    "    def __init__(self, path, final = False, transform = None):\n",
    "        self.transform = transform\n",
    "        self.final = final\n",
    "        if not final:\n",
    "            path = path + 'train/' \n",
    "        else:\n",
    "            path = path + 'test/' \n",
    "        self.pathX = path + 'X/'\n",
    "        self.pathY = path + 'Y/'\n",
    "        self.X = os.listdir(self.pathX)\n",
    "    \n",
    "    def __getitem__(self, index):\n",
    "        f = self.X[index]\n",
    "        img0 = cv2.imread(self.pathX + f + '/rgb/0.png')\n",
    "        img1 = cv2.imread(self.pathX + f + '/rgb/1.png')\n",
    "        img2 = cv2.imread(self.pathX + f + '/rgb/2.png')\n",
    "        if self.transform is not None:\n",
    "            img0 = self.transform(img0)\n",
    "            img1 = self.transform(img1)\n",
    "            img2 = self.transform(img2)     \n",
    "        depth = np.load(self.pathX + f + '/depth.npy') / 1000\n",
    "        field_id = pkl.load(open(self.pathX + f + '/field_id.pkl', 'rb'))\n",
    "        if not self.final:\n",
    "            Y = np.load(self.pathY + f + '.npy')\n",
    "            return (img0, img1, img2, depth, field_id), Y*1000 \n",
    "        else:\n",
    "            return (img0, img1, img2, depth, field_id)\n",
    "                       \n",
    "    def __len__(self):\n",
    "        return len(self.X)"
   ]
  },
  {
   "cell_type": "code",
   "execution_count": null,
   "id": "754e1a46",
   "metadata": {},
   "outputs": [],
   "source": [
    "data0 = LazyLoadDataset('./', transform = transforms.ToTensor())"
   ]
  },
  {
   "cell_type": "markdown",
   "id": "21acecdf",
   "metadata": {},
   "source": [
    "## Computing the mean and standard deviation of dataset based on RGB dimensions"
   ]
  },
  {
   "cell_type": "code",
   "execution_count": null,
   "id": "1c1b7130",
   "metadata": {},
   "outputs": [],
   "source": [
    "dataloader=DataLoader(data0, batch_size=len(data0), shuffle=False)#We don't need to shuffle the dataset for computing mean and std\n",
    "(img0, img1, img2, depth, field_id), Y = next(iter(dataloader))\n",
    "temp=torch.cat([img0.view(3396,1,3,224,224),img1.view(3396,1,3,224,224),img2.view(3396,1,3,224,224)],dim=1)\n",
    "mean=temp.mean([0,1,3,4])\n",
    "std=temp.std([0,1,3,4])"
   ]
  },
  {
   "cell_type": "markdown",
   "id": "2803c570",
   "metadata": {},
   "source": [
    "Normalize data and train test split"
   ]
  },
  {
   "cell_type": "code",
   "execution_count": null,
   "id": "398577fb",
   "metadata": {},
   "outputs": [],
   "source": [
    "normalize = transforms.Compose([transforms.ToTensor(), transforms.Normalize(mean, std)])\n",
    "data = LazyLoadDataset('./', transform = normalize)\n",
    "\n",
    "train_data, test_data = torch.utils.data.random_split(data, [0.8,0.2])\n",
    "train_size = len(train_data)\n",
    "test_size = len(test_data)\n",
    "\n",
    "train_loader = DataLoader(train_data, batch_size=16, shuffle=True)\n",
    "test_loader = DataLoader(test_data, batch_size=64, shuffle=True)"
   ]
  },
  {
   "cell_type": "markdown",
   "id": "a94c0acc",
   "metadata": {},
   "source": [
    "## CNN based on AlexNet"
   ]
  },
  {
   "cell_type": "code",
   "execution_count": null,
   "id": "9d192364",
   "metadata": {},
   "outputs": [],
   "source": [
    "class CNN(nn.Module):\n",
    "    def __init__(self, input_channels, fc_feature, output_size):\n",
    "        super(CNN, self).__init__()\n",
    "        self.conv1 = nn.Conv2d(input_channels, 64, kernel_size=11, stride=4, padding=2, groups=4)\n",
    "        self.conv2 = nn.Conv2d(64, 192, kernel_size=5, padding=2, groups=4)\n",
    "        self.conv3 = nn.Conv2d(192, 192, kernel_size=1, groups=4)\n",
    "        self.conv4 = nn.Conv2d(192, 384, kernel_size=3, padding=1, groups=4)\n",
    "        self.conv5 = nn.Conv2d(384, 256, kernel_size=3, padding=1, groups=4)\n",
    "        self.conv6 = nn.Conv2d(256, 256, kernel_size=3, padding=1, groups=4)\n",
    "        self.relu = nn.ReLU(inplace=True)\n",
    "        self.maxpool = nn.MaxPool2d(kernel_size=3, stride=2)\n",
    "        self.avgpool = nn.AdaptiveAvgPool2d((6,6))\n",
    "        self.flatten = nn.Flatten()\n",
    "        self.dropout1 = nn.Dropout(p=0.3)\n",
    "        self.dropout2 = nn.Dropout(p=0.5)\n",
    "        self.fc1 = nn.Linear(256*6*6, fc_feature)\n",
    "        self.fc2 = nn.Linear(fc_feature, fc_feature)\n",
    "        self.fc3 = nn.Linear(fc_feature, output_size)\n",
    "        \n",
    "    def forward(self, x):\n",
    "        x = self.relu(self.conv1(x))\n",
    "        x = self.maxpool(x)\n",
    "        x = self.relu(self.conv2(x))\n",
    "        x = self.relu(self.conv3(x))\n",
    "        x = self.maxpool(x)\n",
    "        x = self.relu(self.conv4(x))\n",
    "        x = self.relu(self.conv5(x))\n",
    "        x = self.relu(self.conv6(x))\n",
    "        x = self.maxpool(x)\n",
    "        x = self.avgpool(x)\n",
    "        x = self.flatten(x)\n",
    "        x = self.dropout1(x)\n",
    "        x = self.relu(self.fc1(x))\n",
    "        x = self.dropout2(x)\n",
    "        x = self.relu(self.fc2(x))\n",
    "        x = self.fc3(x)\n",
    "        return x\n"
   ]
  },
  {
   "cell_type": "markdown",
   "id": "0e56c4f8",
   "metadata": {},
   "source": [
    "## Train and Test functions"
   ]
  },
  {
   "cell_type": "code",
   "execution_count": null,
   "id": "0a8118f0",
   "metadata": {},
   "outputs": [],
   "source": [
    "def train(epoch, model, optimizer):\n",
    "    model.train()\n",
    "    loss = 0\n",
    "    for batch_idx, ((img0, img1, img2, depth, field_id), target) in enumerate(train_loader):\n",
    "        data = torch.cat((img0, img1, img2, depth), dim=1).to(device)\n",
    "        target = target.to(device)\n",
    "        optimizer.zero_grad()\n",
    "        output = model(data)\n",
    "        loss = nn.MSELoss()(output.float(),target.float())\n",
    "        loss.backward()\n",
    "        optimizer.step()\n",
    "        if batch_idx % 10 == 0:\n",
    "            print('Train Epoch: {} [{}/{} ({:.0f}%)]\\tLoss: {:.6f}'.format(epoch, batch_idx * len(data), \n",
    "                                                                           len(train_loader.dataset),100. * batch_idx / len(train_loader), \n",
    "                                                                           loss.item()))"
   ]
  },
  {
   "cell_type": "code",
   "execution_count": null,
   "id": "e9ca3b47",
   "metadata": {},
   "outputs": [],
   "source": [
    "def test(model):\n",
    "    model.eval()\n",
    "    loss = 0\n",
    "    for batch_idx, ((img0, img1, img2, depth, field_id), target) in enumerate(test_loader):\n",
    "        data = torch.cat((img0, img1, img2, depth), dim=1).to(device)\n",
    "        target = target.to(device)\n",
    "        pred = model(data)\n",
    "        mse = nn.MSELoss()(pred.float(),target.float())\n",
    "        loss += mse.item()\n",
    "    loss = loss/test_size\n",
    "    print('Test set: Average MSE: {:.5f}'.format(loss))\n",
    "    return loss"
   ]
  },
  {
   "cell_type": "markdown",
   "id": "c2b1c264",
   "metadata": {},
   "source": [
    "## Training and Tuning the model"
   ]
  },
  {
   "cell_type": "markdown",
   "id": "290e2c16",
   "metadata": {},
   "source": [
    "First iteration"
   ]
  },
  {
   "cell_type": "code",
   "execution_count": null,
   "id": "d8c8a21c",
   "metadata": {},
   "outputs": [],
   "source": [
    "input_channels = 12\n",
    "fc_features = 4096\n",
    "output_size = 12\n",
    "model_cnn = CNN(input_channels, fc_features, output_size)\n",
    "model_cnn.to(device)\n",
    "optimizer = optim.Adam(model_cnn.parameters(), lr = 0.0001)\n",
    "test_loss=[]\n",
    "for epoch in range(0, 30):\n",
    "    train(epoch, model_cnn, optimizer)\n",
    "    test_loss.append(test(model_cnn))\n",
    "    SAVE_PATH='models/epoch'+str(epoch)+\".pt\"\n",
    "    torch.save(model_cnn.state_dict(),SAVE_PATH)\n",
    "min_epoch=test_loss.index(min(test_loss))\n",
    "min_epoch"
   ]
  },
  {
   "cell_type": "markdown",
   "id": "50cde4d5",
   "metadata": {},
   "source": [
    "Adjusting the learning rate for more accurate convergence\n",
    "\n",
    "#### Note: the following cell was run several times with change of learning rate and model parameters"
   ]
  },
  {
   "cell_type": "code",
   "execution_count": null,
   "id": "bdaf01c6",
   "metadata": {},
   "outputs": [],
   "source": [
    "model_cnn = CNN(input_channels, fc_features, output_size)\n",
    "model_cnn.load_state_dict(torch.load('models/epoch7.pt'))\n",
    "model_cnn.to(device)\n",
    "optimizer = optim.Adam(model_cnn.parameters(), lr = 0.00001)\n",
    "test_loss=[]\n",
    "for epoch in range(0, 10):\n",
    "    train(epoch, model_cnn, optimizer)\n",
    "    test_loss.append(test(model_cnn))\n",
    "    SAVE_PATH='models/epoch'+str(epoch)+\".pt\"\n",
    "    torch.save(model_cnn.state_dict(),SAVE_PATH)\n",
    "min_epoch=test_loss.index(min(test_loss))\n",
    "min_epoch"
   ]
  },
  {
   "cell_type": "markdown",
   "id": "c1d2f402",
   "metadata": {},
   "source": [
    "## Loading the final model and producing data for submission"
   ]
  },
  {
   "cell_type": "markdown",
   "id": "77381013",
   "metadata": {},
   "source": [
    "Loading the best model"
   ]
  },
  {
   "cell_type": "code",
   "execution_count": null,
   "id": "bd546447",
   "metadata": {},
   "outputs": [],
   "source": [
    "model = CNN(input_channels, fc_features, output_size)\n",
    "model.load_state_dict(torch.load('models/final.pt'))"
   ]
  },
  {
   "cell_type": "markdown",
   "id": "624ef5d2",
   "metadata": {},
   "source": [
    "Loading submission dataset"
   ]
  },
  {
   "cell_type": "code",
   "execution_count": null,
   "id": "4f3b9526",
   "metadata": {},
   "outputs": [],
   "source": [
    "final_data = LazyLoadDataset('./', final = True, transform = normalize)\n",
    "final_loader = DataLoader(final_data, batch_size=64, shuffle=True)"
   ]
  },
  {
   "cell_type": "markdown",
   "id": "d6bc0d22",
   "metadata": {},
   "source": [
    "Write to csv"
   ]
  },
  {
   "cell_type": "code",
   "execution_count": null,
   "id": "703c0546",
   "metadata": {},
   "outputs": [],
   "source": [
    "outfile = 'submission.csv'\n",
    "output_file = open(outfile, 'w')\n",
    "titles = ['ID', 'FINGER_POS_1', 'FINGER_POS_2', 'FINGER_POS_3', 'FINGER_POS_4', 'FINGER_POS_5', 'FINGER_POS_6',\n",
    "     'FINGER_POS_7', 'FINGER_POS_8', 'FINGER_POS_9', 'FINGER_POS_10', 'FINGER_POS_11', 'FINGER_POS_12']\n",
    "\n",
    "model.eval()\n",
    "model.cuda()\n",
    "preds = []\n",
    "file_ids = []\n",
    "\n",
    "for i, ((img0, img1, img2, depth, field_id)) in enumerate(final_loader):\n",
    "    data = torch.cat((img0, img1, img2, depth), dim=1).to(device)\n",
    "    output = model(data)\n",
    "    preds.append(output)\n",
    "    file_ids.extend(field_id)\n",
    "\n",
    "preds=torch.cat(preds,dim=0)\n",
    "\n",
    "preds = preds.cpu().detach().numpy() / 1000.0\n",
    "\n",
    "df = pd.concat([pd.DataFrame(file_ids), pd.DataFrame.from_records(preds)], axis = 1, names = titles)\n",
    "df.columns = titles\n",
    "df.to_csv(outfile, index = False)\n",
    "print(\"Written to csv file {}\".format(outfile))"
   ]
  }
 ],
 "metadata": {
  "kernelspec": {
   "display_name": "Python 3 (ipykernel)",
   "language": "python",
   "name": "python3"
  },
  "language_info": {
   "codemirror_mode": {
    "name": "ipython",
    "version": 3
   },
   "file_extension": ".py",
   "mimetype": "text/x-python",
   "name": "python",
   "nbconvert_exporter": "python",
   "pygments_lexer": "ipython3",
   "version": "3.9.6"
  }
 },
 "nbformat": 4,
 "nbformat_minor": 5
}
